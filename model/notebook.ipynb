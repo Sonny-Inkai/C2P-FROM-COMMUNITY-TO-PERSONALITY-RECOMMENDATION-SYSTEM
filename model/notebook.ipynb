{
 "cells": [
  {
   "cell_type": "code",
   "execution_count": 49,
   "metadata": {},
   "outputs": [],
   "source": [
    "import numpy as np\n",
    "import pandas as pd"
   ]
  },
  {
   "cell_type": "code",
   "execution_count": 7,
   "metadata": {},
   "outputs": [
    {
     "data": {
      "text/plain": [
       "array([[        1,        20,         4, 887431883],\n",
       "       [        1,        33,         4, 878542699],\n",
       "       [        1,        61,         4, 878542420],\n",
       "       ...,\n",
       "       [      943,       570,         1, 888640125],\n",
       "       [      943,       808,         4, 888639868],\n",
       "       [      943,      1067,         2, 875501756]])"
      ]
     },
     "execution_count": 7,
     "metadata": {},
     "output_type": "execute_result"
    }
   ],
   "source": [
    "np.loadtxt('..\\\\data\\\\ml-100k\\\\ua.test', skiprows=0, delimiter='\\t').astype('int32')"
   ]
  },
  {
   "cell_type": "code",
   "execution_count": 19,
   "metadata": {},
   "outputs": [],
   "source": [
    "def load_data(path, delimiter='\\t'):\n",
    "    train = np.loadtxt(path+'ua.base', skiprows=0, delimiter=delimiter).astype('int32')\n",
    "    test = np.loadtxt(path+'ua.test', skiprows=0, delimiter=delimiter).astype('int32')\n",
    "    total = np.concatenate((train, test), axis=0)\n",
    "\n",
    "    n_u = np.unique(total[:, 0]).size #num of users\n",
    "    n_i = np.unique(total[:, 1]).size #num of items\n",
    "\n",
    "    train_data = np.zeros((n_u, n_i), dtype='float32')\n",
    "    test_data = np.zeros((n_u, n_i), dtype='float32')\n",
    "\n",
    "    for i in range(train.shape[0]):\n",
    "        train_data[train[i][0]-1][train[i][1]-1] = train[i][2]\n",
    "    \n",
    "    for i in range(test.shape[0]):\n",
    "        test_data[test[i][0]-1][test[i][1]-1] = test[i][2]\n",
    "\n",
    "    return train_data, test_data"
   ]
  },
  {
   "cell_type": "code",
   "execution_count": 20,
   "metadata": {},
   "outputs": [],
   "source": [
    "train_data, test_data = load_data(path='..\\\\data\\\\ml-100k\\\\')"
   ]
  },
  {
   "cell_type": "code",
   "execution_count": 45,
   "metadata": {},
   "outputs": [
    {
     "data": {
      "text/plain": [
       "3.3333333333333335"
      ]
     },
     "execution_count": 45,
     "metadata": {},
     "output_type": "execute_result"
    }
   ],
   "source": [
    "a = 1601\n",
    "sum(train_data[:, a])/np.count_nonzero(train_data[:, a])"
   ]
  },
  {
   "cell_type": "code",
   "execution_count": 32,
   "metadata": {},
   "outputs": [],
   "source": [
    "def average_item_rating(train_data):\n",
    "    list_average_item_rating = [sum(train_data[:, i])/np.count_nonzero(train_data[:, i]) for i in range(train_data.shape[1])]\n",
    "    return list_average_item_rating"
   ]
  },
  {
   "cell_type": "code",
   "execution_count": 33,
   "metadata": {},
   "outputs": [
    {
     "name": "stderr",
     "output_type": "stream",
     "text": [
      "C:\\Users\\Theba\\AppData\\Local\\Temp\\ipykernel_17896\\2928453520.py:2: RuntimeWarning: invalid value encountered in scalar divide\n",
      "  list_average_item_rating = [sum(train_data[:, i])/np.count_nonzero(train_data[:, i]) for i in range(train_data.shape[1])]\n"
     ]
    }
   ],
   "source": [
    "list_average_item_rating = average_item_rating(train_data=train_data)"
   ]
  },
  {
   "cell_type": "code",
   "execution_count": 48,
   "metadata": {},
   "outputs": [
    {
     "data": {
      "text/plain": [
       "2.5555555555555554"
      ]
     },
     "execution_count": 48,
     "metadata": {},
     "output_type": "execute_result"
    }
   ],
   "source": [
    "list_average_item_rating[1183]"
   ]
  },
  {
   "cell_type": "code",
   "execution_count": 50,
   "metadata": {},
   "outputs": [],
   "source": [
    "def get_item_features(item_path): \n",
    "   i_cols = ['movie id', 'movie title' ,'release date','video release date', 'IMDb URL', 'unknown', 'Action', 'Adventure',\n",
    " 'Animation', 'Children\\'s', 'Comedy', 'Crime', 'Documentary', 'Drama', 'Fantasy',\n",
    " 'Film-Noir', 'Horror', 'Musical', 'Mystery', 'Romance', 'Sci-Fi', 'Thriller', 'War', 'Western']\n",
    "\n",
    "   movies = pd.read_csv(item_path, sep='|', names=i_cols,encoding='latin-1')\n",
    "   genres = movies[['unknown', 'Action', 'Adventure',\n",
    " 'Animation', 'Children\\'s', 'Comedy', 'Crime', 'Documentary', 'Drama', 'Fantasy',\n",
    " 'Film-Noir', 'Horror', 'Musical', 'Mystery', 'Romance', 'Sci-Fi', 'Thriller', 'War', 'Western']]\n",
    "   genres = genres.to_numpy()\n",
    "\n",
    "   return genres\n",
    "    "
   ]
  },
  {
   "cell_type": "code",
   "execution_count": 52,
   "metadata": {},
   "outputs": [],
   "source": [
    "item_featuers = get_item_features('..\\\\data\\\\ml-100k\\\\u.item')"
   ]
  },
  {
   "cell_type": "code",
   "execution_count": 53,
   "metadata": {},
   "outputs": [
    {
     "data": {
      "text/plain": [
       "array([[0, 0, 0, ..., 0, 0, 0],\n",
       "       [0, 1, 1, ..., 1, 0, 0],\n",
       "       [0, 0, 0, ..., 1, 0, 0],\n",
       "       ...,\n",
       "       [0, 0, 0, ..., 0, 0, 0],\n",
       "       [0, 0, 0, ..., 0, 0, 0],\n",
       "       [0, 0, 0, ..., 0, 0, 0]], dtype=int64)"
      ]
     },
     "execution_count": 53,
     "metadata": {},
     "output_type": "execute_result"
    }
   ],
   "source": [
    "item_featuers"
   ]
  },
  {
   "cell_type": "code",
   "execution_count": null,
   "metadata": {},
   "outputs": [],
   "source": []
  }
 ],
 "metadata": {
  "kernelspec": {
   "display_name": "venv",
   "language": "python",
   "name": "python3"
  },
  "language_info": {
   "codemirror_mode": {
    "name": "ipython",
    "version": 3
   },
   "file_extension": ".py",
   "mimetype": "text/x-python",
   "name": "python",
   "nbconvert_exporter": "python",
   "pygments_lexer": "ipython3",
   "version": "3.9.18"
  }
 },
 "nbformat": 4,
 "nbformat_minor": 2
}
