{
 "cells": [
  {
   "cell_type": "code",
   "execution_count": 3,
   "metadata": {},
   "outputs": [],
   "source": [
    "import numpy as np"
   ]
  },
  {
   "cell_type": "code",
   "execution_count": 7,
   "metadata": {},
   "outputs": [
    {
     "data": {
      "text/plain": [
       "array([[        1,        20,         4, 887431883],\n",
       "       [        1,        33,         4, 878542699],\n",
       "       [        1,        61,         4, 878542420],\n",
       "       ...,\n",
       "       [      943,       570,         1, 888640125],\n",
       "       [      943,       808,         4, 888639868],\n",
       "       [      943,      1067,         2, 875501756]])"
      ]
     },
     "execution_count": 7,
     "metadata": {},
     "output_type": "execute_result"
    }
   ],
   "source": [
    "np.loadtxt('..\\\\data\\\\ml-100k\\\\ua.test', skiprows=0, delimiter='\\t').astype('int32')"
   ]
  },
  {
   "cell_type": "code",
   "execution_count": 19,
   "metadata": {},
   "outputs": [],
   "source": [
    "def load_data(path, delimiter='\\t'):\n",
    "    train = np.loadtxt(path+'ua.base', skiprows=0, delimiter=delimiter).astype('int32')\n",
    "    test = np.loadtxt(path+'ua.test', skiprows=0, delimiter=delimiter).astype('int32')\n",
    "    total = np.concatenate((train, test), axis=0)\n",
    "\n",
    "    n_u = np.unique(total[:, 0]).size #num of users\n",
    "    n_i = np.unique(total[:, 1]).size #num of items\n",
    "\n",
    "    train_data = np.zeros((n_u, n_i), dtype='float32')\n",
    "    test_data = np.zeros((n_u, n_i), dtype='float32')\n",
    "\n",
    "    for i in range(train.shape[0]):\n",
    "        train_data[train[i][0]-1][train[i][1]-1] = train[i][2]\n",
    "    \n",
    "    for i in range(test.shape[0]):\n",
    "        test_data[test[i][0]-1][test[i][1]-1] = test[i][2]\n",
    "\n",
    "    return train_data, test_data"
   ]
  },
  {
   "cell_type": "code",
   "execution_count": 20,
   "metadata": {},
   "outputs": [],
   "source": [
    "train_data, test_data = load_data(path='..\\\\data\\\\ml-100k\\\\')"
   ]
  },
  {
   "cell_type": "code",
   "execution_count": 23,
   "metadata": {},
   "outputs": [
    {
     "data": {
      "text/plain": [
       "(943, 1682)"
      ]
     },
     "execution_count": 23,
     "metadata": {},
     "output_type": "execute_result"
    }
   ],
   "source": [
    "train_data.shape"
   ]
  },
  {
   "cell_type": "code",
   "execution_count": null,
   "metadata": {},
   "outputs": [],
   "source": [
    "def average_item_rating(train_data):\n",
    "    "
   ]
  }
 ],
 "metadata": {
  "kernelspec": {
   "display_name": "venv",
   "language": "python",
   "name": "python3"
  },
  "language_info": {
   "codemirror_mode": {
    "name": "ipython",
    "version": 3
   },
   "file_extension": ".py",
   "mimetype": "text/x-python",
   "name": "python",
   "nbconvert_exporter": "python",
   "pygments_lexer": "ipython3",
   "version": "3.9.18"
  }
 },
 "nbformat": 4,
 "nbformat_minor": 2
}
